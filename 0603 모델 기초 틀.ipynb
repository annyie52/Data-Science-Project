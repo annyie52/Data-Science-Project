{
 "cells": [
  {
   "cell_type": "code",
   "execution_count": 1,
   "id": "1a2d02d8",
   "metadata": {},
   "outputs": [],
   "source": [
    "# import tensorflow as tf\n",
    "\n",
    "# physical_devices = tf.config.list_physical_devices('GPU')\n",
    "# try:\n",
    "#     tf.config.experimental.set_memory_growth(physical_devices[0], True)\n",
    "# except:\n",
    "#     # Invalid device or cannot modify virtual devices once initialized.\n",
    "#     pass"
   ]
  },
  {
   "cell_type": "code",
   "execution_count": 19,
   "id": "8a9afbb9",
   "metadata": {},
   "outputs": [],
   "source": [
    "import os\n",
    "\n",
    "base_dir = './image'\n",
    "\n",
    "# 훈련, 검증, 테스트 분할을 위한 디렉터리\n",
    "train_dir = os.path.join(base_dir, 'train')\n",
    "\n",
    "train_0_dr = os.path.join(train_dir, '0')\n",
    "train_1_dr = os.path.join(train_dir, '1')\n",
    "\n",
    "validation_dir = os.path.join(base_dir, 'validation')\n",
    "\n",
    "validation_0_dir = os.path.join(validation_dir, '0')\n",
    "validation_1_dir = os.path.join(validation_dir, '1')"
   ]
  },
  {
   "cell_type": "code",
   "execution_count": 20,
   "id": "ad9c465c",
   "metadata": {},
   "outputs": [
    {
     "data": {
      "text/plain": [
       "562"
      ]
     },
     "execution_count": 20,
     "metadata": {},
     "output_type": "execute_result"
    }
   ],
   "source": [
    "len(os.listdir(validation_0_dir))"
   ]
  },
  {
   "cell_type": "code",
   "execution_count": 21,
   "id": "f96535ca",
   "metadata": {},
   "outputs": [
    {
     "data": {
      "text/plain": [
       "517"
      ]
     },
     "execution_count": 21,
     "metadata": {},
     "output_type": "execute_result"
    }
   ],
   "source": [
    "len(os.listdir(validation_1_dir))"
   ]
  },
  {
   "cell_type": "code",
   "execution_count": 22,
   "id": "62810cfb",
   "metadata": {},
   "outputs": [
    {
     "data": {
      "text/plain": [
       "2"
      ]
     },
     "execution_count": 22,
     "metadata": {},
     "output_type": "execute_result"
    }
   ],
   "source": [
    "len(os.listdir(path=validation_dir))"
   ]
  },
  {
   "cell_type": "code",
   "execution_count": 23,
   "id": "a96db566",
   "metadata": {},
   "outputs": [],
   "source": [
    "from keras import layers\n",
    "from keras import models\n",
    "from tensorflow.keras import optimizers\n",
    "from keras.preprocessing.image import ImageDataGenerator"
   ]
  },
  {
   "cell_type": "code",
   "execution_count": 58,
   "id": "174eb24a",
   "metadata": {},
   "outputs": [],
   "source": [
    "model = models.Sequential()\n",
    "model.add(layers.Conv2D(32, kernel_size=(3, 3), activation='relu',input_shape=(72, 144, 3))) \n",
    "model.add(layers.MaxPooling2D((2, 2)))\n",
    "\n",
    "model.add(layers.Conv2D(64, kernel_size=(3, 3), activation='relu'))\n",
    "model.add(layers.MaxPooling2D((2, 2)))\n",
    "\n",
    "# model.add(layers.Conv2D(128, kernel_size=(3, 3), activation='relu'))\n",
    "# model.add(layers.MaxPooling2D((2, 2)))\n",
    "\n",
    "# model.add(layers.Conv2D(128, kernel_size=(3, 3), activation='relu'))\n",
    "# model.add(layers.MaxPooling2D((2, 2)))\n",
    "\n",
    "model.add(layers.Flatten())\n",
    "model.add(layers.Dense(512, activation='relu'))\n",
    "model.add(layers.Dense(1, activation='sigmoid'))"
   ]
  },
  {
   "cell_type": "code",
   "execution_count": 59,
   "id": "04a08669",
   "metadata": {},
   "outputs": [
    {
     "name": "stdout",
     "output_type": "stream",
     "text": [
      "Model: \"sequential_3\"\n",
      "_________________________________________________________________\n",
      " Layer (type)                Output Shape              Param #   \n",
      "=================================================================\n",
      " conv2d_6 (Conv2D)           (None, 70, 142, 32)       896       \n",
      "                                                                 \n",
      " max_pooling2d_6 (MaxPooling  (None, 35, 71, 32)       0         \n",
      " 2D)                                                             \n",
      "                                                                 \n",
      " conv2d_7 (Conv2D)           (None, 33, 69, 64)        18496     \n",
      "                                                                 \n",
      " max_pooling2d_7 (MaxPooling  (None, 16, 34, 64)       0         \n",
      " 2D)                                                             \n",
      "                                                                 \n",
      " flatten_3 (Flatten)         (None, 34816)             0         \n",
      "                                                                 \n",
      " dense_6 (Dense)             (None, 512)               17826304  \n",
      "                                                                 \n",
      " dense_7 (Dense)             (None, 1)                 513       \n",
      "                                                                 \n",
      "=================================================================\n",
      "Total params: 17,846,209\n",
      "Trainable params: 17,846,209\n",
      "Non-trainable params: 0\n",
      "_________________________________________________________________\n"
     ]
    }
   ],
   "source": [
    "model.summary()"
   ]
  },
  {
   "cell_type": "code",
   "execution_count": 60,
   "id": "b7ebefb8",
   "metadata": {},
   "outputs": [],
   "source": [
    "from tensorflow.keras import optimizers\n",
    "\n",
    "model.compile(loss='binary_crossentropy',\n",
    "              optimizer=optimizers.RMSprop(learning_rate=0.0001), #default: 0.001\n",
    "              metrics=['acc'])"
   ]
  },
  {
   "cell_type": "code",
   "execution_count": 61,
   "id": "101e9306",
   "metadata": {},
   "outputs": [
    {
     "name": "stdout",
     "output_type": "stream",
     "text": [
      "Found 1076 images belonging to 2 classes.\n",
      "Found 1079 images belonging to 2 classes.\n"
     ]
    }
   ],
   "source": [
    "train_datagen = ImageDataGenerator(rescale=1./255)\n",
    "validation_datagen = ImageDataGenerator(rescale=1./255)\n",
    "\n",
    "train_generator = train_datagen.flow_from_directory(        \n",
    "        train_dir,\n",
    "        target_size=(72, 144),\n",
    "        batch_size=50,          \n",
    "        class_mode='binary')\n",
    "\n",
    "validation_generator = validation_datagen.flow_from_directory(\n",
    "        validation_dir,\n",
    "        target_size=(72, 144),\n",
    "        batch_size=50,\n",
    "        class_mode='binary')"
   ]
  },
  {
   "cell_type": "code",
   "execution_count": 63,
   "id": "bdb226d5",
   "metadata": {},
   "outputs": [
    {
     "name": "stdout",
     "output_type": "stream",
     "text": [
      "Epoch 1/20\n",
      "22/22 [==============================] - 1s 35ms/step - loss: 0.3840 - acc: 0.8764 - val_loss: 0.8348 - val_acc: 0.4970\n",
      "Epoch 2/20\n",
      "22/22 [==============================] - 1s 35ms/step - loss: 0.3524 - acc: 0.8848 - val_loss: 0.9354 - val_acc: 0.4760\n",
      "Epoch 3/20\n",
      "22/22 [==============================] - 1s 34ms/step - loss: 0.3347 - acc: 0.8894 - val_loss: 0.8768 - val_acc: 0.5140\n",
      "Epoch 4/20\n",
      "22/22 [==============================] - 1s 34ms/step - loss: 0.3028 - acc: 0.9154 - val_loss: 0.8933 - val_acc: 0.5130\n",
      "Epoch 5/20\n",
      "22/22 [==============================] - 1s 33ms/step - loss: 0.2828 - acc: 0.9229 - val_loss: 0.8932 - val_acc: 0.5060\n",
      "Epoch 6/20\n",
      "22/22 [==============================] - 1s 34ms/step - loss: 0.2524 - acc: 0.9340 - val_loss: 0.9487 - val_acc: 0.5240\n",
      "Epoch 7/20\n",
      "22/22 [==============================] - 1s 34ms/step - loss: 0.2383 - acc: 0.9368 - val_loss: 0.9697 - val_acc: 0.4850\n",
      "Epoch 8/20\n",
      "22/22 [==============================] - 1s 33ms/step - loss: 0.2119 - acc: 0.9572 - val_loss: 1.0307 - val_acc: 0.5130\n",
      "Epoch 9/20\n",
      "22/22 [==============================] - 1s 34ms/step - loss: 0.1987 - acc: 0.9600 - val_loss: 1.0261 - val_acc: 0.5210\n",
      "Epoch 10/20\n",
      "22/22 [==============================] - 1s 34ms/step - loss: 0.1687 - acc: 0.9712 - val_loss: 1.0534 - val_acc: 0.4800\n",
      "Epoch 11/20\n",
      "22/22 [==============================] - 1s 34ms/step - loss: 0.1702 - acc: 0.9675 - val_loss: 1.0491 - val_acc: 0.4890\n",
      "Epoch 12/20\n",
      "22/22 [==============================] - 1s 35ms/step - loss: 0.1455 - acc: 0.9805 - val_loss: 1.0645 - val_acc: 0.5090\n",
      "Epoch 13/20\n",
      "22/22 [==============================] - 1s 33ms/step - loss: 0.1213 - acc: 0.9842 - val_loss: 1.1681 - val_acc: 0.4810\n",
      "Epoch 14/20\n",
      "22/22 [==============================] - 1s 35ms/step - loss: 0.1066 - acc: 0.9916 - val_loss: 1.1225 - val_acc: 0.5030\n",
      "Epoch 15/20\n",
      "22/22 [==============================] - 1s 34ms/step - loss: 0.0994 - acc: 0.9879 - val_loss: 1.1914 - val_acc: 0.4880\n",
      "Epoch 16/20\n",
      "22/22 [==============================] - 1s 34ms/step - loss: 0.0844 - acc: 0.9916 - val_loss: 1.2230 - val_acc: 0.4940\n",
      "Epoch 17/20\n",
      "22/22 [==============================] - 1s 33ms/step - loss: 0.0781 - acc: 0.9907 - val_loss: 1.2583 - val_acc: 0.5180\n",
      "Epoch 18/20\n",
      "22/22 [==============================] - 1s 34ms/step - loss: 0.0633 - acc: 0.9963 - val_loss: 1.2699 - val_acc: 0.5010\n",
      "Epoch 19/20\n",
      "22/22 [==============================] - 1s 34ms/step - loss: 0.0519 - acc: 1.0000 - val_loss: 1.3444 - val_acc: 0.4900\n",
      "Epoch 20/20\n",
      "22/22 [==============================] - 1s 34ms/step - loss: 0.0497 - acc: 0.9972 - val_loss: 1.4885 - val_acc: 0.4770\n"
     ]
    }
   ],
   "source": [
    "history = model.fit(train_generator,epochs=20, validation_data=validation_generator, validation_steps=20)"
   ]
  },
  {
   "cell_type": "code",
   "execution_count": 64,
   "id": "0e26bc98",
   "metadata": {},
   "outputs": [],
   "source": [
    "model.save('./model/stock_model3.hdf5')"
   ]
  },
  {
   "cell_type": "code",
   "execution_count": 24,
   "id": "65226f83",
   "metadata": {},
   "outputs": [],
   "source": [
    "import FinanceDataReader as fdr"
   ]
  },
  {
   "cell_type": "code",
   "execution_count": 26,
   "id": "8223520e",
   "metadata": {},
   "outputs": [
    {
     "data": {
      "text/html": [
       "<div>\n",
       "<style scoped>\n",
       "    .dataframe tbody tr th:only-of-type {\n",
       "        vertical-align: middle;\n",
       "    }\n",
       "\n",
       "    .dataframe tbody tr th {\n",
       "        vertical-align: top;\n",
       "    }\n",
       "\n",
       "    .dataframe thead th {\n",
       "        text-align: right;\n",
       "    }\n",
       "</style>\n",
       "<table border=\"1\" class=\"dataframe\">\n",
       "  <thead>\n",
       "    <tr style=\"text-align: right;\">\n",
       "      <th></th>\n",
       "      <th>Open</th>\n",
       "      <th>High</th>\n",
       "      <th>Low</th>\n",
       "      <th>Close</th>\n",
       "      <th>Volume</th>\n",
       "      <th>Change</th>\n",
       "    </tr>\n",
       "    <tr>\n",
       "      <th>Date</th>\n",
       "      <th></th>\n",
       "      <th></th>\n",
       "      <th></th>\n",
       "      <th></th>\n",
       "      <th></th>\n",
       "      <th></th>\n",
       "    </tr>\n",
       "  </thead>\n",
       "  <tbody>\n",
       "    <tr>\n",
       "      <th>2022-05-19</th>\n",
       "      <td>80500</td>\n",
       "      <td>81000</td>\n",
       "      <td>80000</td>\n",
       "      <td>80400</td>\n",
       "      <td>1519533</td>\n",
       "      <td>-0.026634</td>\n",
       "    </tr>\n",
       "    <tr>\n",
       "      <th>2022-05-20</th>\n",
       "      <td>80800</td>\n",
       "      <td>83300</td>\n",
       "      <td>80400</td>\n",
       "      <td>83000</td>\n",
       "      <td>1561541</td>\n",
       "      <td>0.032338</td>\n",
       "    </tr>\n",
       "    <tr>\n",
       "      <th>2022-05-23</th>\n",
       "      <td>82700</td>\n",
       "      <td>83500</td>\n",
       "      <td>82400</td>\n",
       "      <td>82900</td>\n",
       "      <td>933750</td>\n",
       "      <td>-0.001205</td>\n",
       "    </tr>\n",
       "    <tr>\n",
       "      <th>2022-05-24</th>\n",
       "      <td>82500</td>\n",
       "      <td>82600</td>\n",
       "      <td>80600</td>\n",
       "      <td>80600</td>\n",
       "      <td>1154150</td>\n",
       "      <td>-0.027744</td>\n",
       "    </tr>\n",
       "    <tr>\n",
       "      <th>2022-05-25</th>\n",
       "      <td>81000</td>\n",
       "      <td>82000</td>\n",
       "      <td>80300</td>\n",
       "      <td>81800</td>\n",
       "      <td>1365261</td>\n",
       "      <td>0.014888</td>\n",
       "    </tr>\n",
       "    <tr>\n",
       "      <th>2022-05-26</th>\n",
       "      <td>81900</td>\n",
       "      <td>83300</td>\n",
       "      <td>81000</td>\n",
       "      <td>81500</td>\n",
       "      <td>1338305</td>\n",
       "      <td>-0.003667</td>\n",
       "    </tr>\n",
       "    <tr>\n",
       "      <th>2022-05-27</th>\n",
       "      <td>82400</td>\n",
       "      <td>83000</td>\n",
       "      <td>81500</td>\n",
       "      <td>81700</td>\n",
       "      <td>1038755</td>\n",
       "      <td>0.002454</td>\n",
       "    </tr>\n",
       "    <tr>\n",
       "      <th>2022-05-30</th>\n",
       "      <td>82800</td>\n",
       "      <td>84000</td>\n",
       "      <td>82600</td>\n",
       "      <td>83900</td>\n",
       "      <td>2091429</td>\n",
       "      <td>0.026928</td>\n",
       "    </tr>\n",
       "    <tr>\n",
       "      <th>2022-05-31</th>\n",
       "      <td>84100</td>\n",
       "      <td>85000</td>\n",
       "      <td>82900</td>\n",
       "      <td>85000</td>\n",
       "      <td>2170810</td>\n",
       "      <td>0.013111</td>\n",
       "    </tr>\n",
       "    <tr>\n",
       "      <th>2022-06-02</th>\n",
       "      <td>84000</td>\n",
       "      <td>84200</td>\n",
       "      <td>82900</td>\n",
       "      <td>83700</td>\n",
       "      <td>1147185</td>\n",
       "      <td>-0.015294</td>\n",
       "    </tr>\n",
       "    <tr>\n",
       "      <th>2022-06-03</th>\n",
       "      <td>84800</td>\n",
       "      <td>87400</td>\n",
       "      <td>84700</td>\n",
       "      <td>86400</td>\n",
       "      <td>1644004</td>\n",
       "      <td>0.032258</td>\n",
       "    </tr>\n",
       "  </tbody>\n",
       "</table>\n",
       "</div>"
      ],
      "text/plain": [
       "             Open   High    Low  Close   Volume    Change\n",
       "Date                                                     \n",
       "2022-05-19  80500  81000  80000  80400  1519533 -0.026634\n",
       "2022-05-20  80800  83300  80400  83000  1561541  0.032338\n",
       "2022-05-23  82700  83500  82400  82900   933750 -0.001205\n",
       "2022-05-24  82500  82600  80600  80600  1154150 -0.027744\n",
       "2022-05-25  81000  82000  80300  81800  1365261  0.014888\n",
       "2022-05-26  81900  83300  81000  81500  1338305 -0.003667\n",
       "2022-05-27  82400  83000  81500  81700  1038755  0.002454\n",
       "2022-05-30  82800  84000  82600  83900  2091429  0.026928\n",
       "2022-05-31  84100  85000  82900  85000  2170810  0.013111\n",
       "2022-06-02  84000  84200  82900  83700  1147185 -0.015294\n",
       "2022-06-03  84800  87400  84700  86400  1644004  0.032258"
      ]
     },
     "execution_count": 26,
     "metadata": {},
     "output_type": "execute_result"
    }
   ],
   "source": [
    "kakao = fdr.DataReader('035720', '2022-05-19')\n",
    "kakao"
   ]
  },
  {
   "cell_type": "code",
   "execution_count": 27,
   "id": "a19c48e9",
   "metadata": {},
   "outputs": [],
   "source": [
    "kakao1 = fdr.DataReader('035720', '2022-05-19', '2022-06-02')"
   ]
  },
  {
   "cell_type": "code",
   "execution_count": 28,
   "id": "7f83b2de",
   "metadata": {},
   "outputs": [],
   "source": [
    "import matplotlib.pyplot as plt\n",
    "from mpl_finance import candlestick2_ohlc"
   ]
  },
  {
   "cell_type": "code",
   "execution_count": 30,
   "id": "4434b2ea",
   "metadata": {},
   "outputs": [
    {
     "data": {
      "image/png": "[encoded data removed]",
      "text/plain": [
       "<Figure size 144x72 with 1 Axes>"
      ]
     },
     "metadata": {
      "needs_background": "light"
     },
     "output_type": "display_data"
    }
   ],
   "source": [
    "fig = plt.figure(figsize=(2,1))\n",
    "ax = fig.add_subplot(111)\n",
    "\n",
    "candlestick2_ohlc(ax, kakao1['Open'].to_list(), kakao1['High'].to_list(), \n",
    "                  kakao1['Low'].to_list(), kakao1['Close'].to_list(),\n",
    "                  width=0.5, colorup='r', colordown='b')\n",
    "  \n",
    "plt.axis('off')\n",
    "\n",
    "plt.savefig('./image/test/1.png')"
   ]
  },
  {
   "cell_type": "code",
   "execution_count": 65,
   "id": "5d0da08f",
   "metadata": {},
   "outputs": [],
   "source": [
    "import cv2\n",
    "\n",
    "#이미지 읽기\n",
    "imagex = cv2.imread('./image/test/1.png', cv2.IMREAD_COLOR)"
   ]
  },
  {
   "cell_type": "code",
   "execution_count": 66,
   "id": "88f02f35",
   "metadata": {},
   "outputs": [],
   "source": [
    "imagex = imagex / 255.0"
   ]
  },
  {
   "cell_type": "code",
   "execution_count": 67,
   "id": "9fff65c7",
   "metadata": {},
   "outputs": [],
   "source": [
    "img = np.resize(imagex, (1, 72, 144, 3))"
   ]
  },
  {
   "cell_type": "code",
   "execution_count": 68,
   "id": "ee4b00ae",
   "metadata": {},
   "outputs": [
    {
     "data": {
      "text/plain": [
       "(1, 72, 144, 3)"
      ]
     },
     "execution_count": 68,
     "metadata": {},
     "output_type": "execute_result"
    }
   ],
   "source": [
    "img.shape"
   ]
  },
  {
   "cell_type": "code",
   "execution_count": 69,
   "id": "a8e6184b",
   "metadata": {},
   "outputs": [
    {
     "name": "stdout",
     "output_type": "stream",
     "text": [
      "1/1 [==============================] - 0s 31ms/step\n"
     ]
    }
   ],
   "source": [
    "pred = model.predict(img)"
   ]
  },
  {
   "cell_type": "code",
   "execution_count": 70,
   "id": "03c77cc1",
   "metadata": {},
   "outputs": [
    {
     "data": {
      "text/plain": [
       "0"
      ]
     },
     "execution_count": 70,
     "metadata": {},
     "output_type": "execute_result"
    }
   ],
   "source": [
    "import numpy as np\n",
    "np.argmax(pred[0])"
   ]
  },
  {
   "cell_type": "code",
   "execution_count": 71,
   "id": "231a0b64",
   "metadata": {},
   "outputs": [
    {
     "data": {
      "text/plain": [
       "array([0.03813576], dtype=float32)"
      ]
     },
     "execution_count": 71,
     "metadata": {},
     "output_type": "execute_result"
    }
   ],
   "source": [
    "pred[0]"
   ]
  },
  {
   "cell_type": "code",
   "execution_count": null,
   "id": "cf44037f",
   "metadata": {},
   "outputs": [],
   "source": []
  }
 ],
 "metadata": {
  "kernelspec": {
   "display_name": "Python 3 (ipykernel)",
   "language": "python",
   "name": "python3"
  },
  "language_info": {
   "codemirror_mode": {
    "name": "ipython",
    "version": 3
   },
   "file_extension": ".py",
   "mimetype": "text/x-python",
   "name": "python",
   "nbconvert_exporter": "python",
   "pygments_lexer": "ipython3",
   "version": "3.9.12"
  },
  "toc": {
   "base_numbering": 1,
   "nav_menu": {},
   "number_sections": true,
   "sideBar": true,
   "skip_h1_title": false,
   "title_cell": "Table of Contents",
   "title_sidebar": "Contents",
   "toc_cell": false,
   "toc_position": {},
   "toc_section_display": true,
   "toc_window_display": false
  },
  "varInspector": {
   "cols": {
    "lenName": 16,
    "lenType": 16,
    "lenVar": 40
   },
   "kernels_config": {
    "python": {
     "delete_cmd_postfix": "",
     "delete_cmd_prefix": "del ",
     "library": "var_list.py",
     "varRefreshCmd": "print(var_dic_list())"
    },
    "r": {
     "delete_cmd_postfix": ") ",
     "delete_cmd_prefix": "rm(",
     "library": "var_list.r",
     "varRefreshCmd": "cat(var_dic_list()) "
    }
   },
   "types_to_exclude": [
    "module",
    "function",
    "builtin_function_or_method",
    "instance",
    "_Feature"
   ],
   "window_display": false
  }
 },
 "nbformat": 4,
 "nbformat_minor": 5
}
